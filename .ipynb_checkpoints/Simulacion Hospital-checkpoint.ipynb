{
 "cells": [
  {
   "cell_type": "code",
   "execution_count": 375,
   "metadata": {},
   "outputs": [],
   "source": [
    "from __future__ import print_function\n",
    "from ipywidgets import interact, interactive, fixed, interact_manual\n",
    "import ipywidgets as widgets\n",
    "import numpy as np\n",
    "import seaborn as sns\n",
    "import statistics as stats\n",
    "import matplotlib.pyplot as plt\n",
    "from IPython.display import display"
   ]
  },
  {
   "cell_type": "code",
   "execution_count": 376,
   "metadata": {},
   "outputs": [],
   "source": [
    "class Paciente():\n",
    "    def __init__(self,prefijo,tipo):\n",
    "        self.prefijo = prefijo\n",
    "        self.tiempoLlegada = round(np.random.poisson(220)) #llegada de pacienes con media=220 y poisson\n",
    "        self.tipo = tipo\n",
    "        if tipo == \"INTERNACION\":\n",
    "            self.duracionInternacion = round(np.random.uniform(1,3)) * (24*60)\n",
    "        else: # operacion\n",
    "            self.duracionInternacion = round(np.random.uniform(2,5)) * (24*60) #2 y 5 días para pacientes operados \n",
    "            self.duracionOperacion = np.random.uniform(1,6) * 60"
   ]
  },
  {
   "cell_type": "code",
   "execution_count": 377,
   "metadata": {},
   "outputs": [],
   "source": [
    "class Cama():\n",
    "    def __init__(self, id):\n",
    "        self.id = id\n",
    "        self.ocupada = False\n",
    "        self.contador_ocupacion = 0\n",
    "    \n",
    "    def marcarOcupada(self):\n",
    "        self.ocupada = True\n",
    "    \n",
    "    def marcarDesocupada(self):\n",
    "        self.ocupada = False\n",
    "    \n",
    "    def actualizar_ocupacion(self):\n",
    "        self.contador_ocupacion += 1"
   ]
  },
  {
   "cell_type": "code",
   "execution_count": 378,
   "metadata": {},
   "outputs": [],
   "source": [
    "class Quirofano():\n",
    "    def __init__(self,id):\n",
    "        self.id = id\n",
    "        self.ocupado = False\n",
    "        self.abierto = True\n",
    "        self.tiempoOcupacion = 0\n",
    "    \n",
    "    def marcarOcupado(self):\n",
    "        self.ocupado = True\n",
    "    \n",
    "    def marcarDesocupado(self):\n",
    "        self.ocupado = False\n",
    "    \n",
    "    def actualizarTiempoOcupacion(self, tiempo):\n",
    "        self.tiempoOcupacion += tiempo"
   ]
  },
  {
   "cell_type": "code",
   "execution_count": 379,
   "metadata": {},
   "outputs": [],
   "source": [
    "class Evento():\n",
    "    def __init__(self, _id, nombre, objeto, arribo, duracion):\n",
    "        self.id = _id\n",
    "        self.nombre = nombre\n",
    "        self.arribo = arribo\n",
    "        self.duracion = duracion\n",
    "        self.tiempo_fin = arribo + duracion\n",
    "        self.objeto = objeto\n",
    "        \n",
    "    def __repr__(self):\n",
    "        return \"f{self.id} - {self.nombre} - arribo: {self.arribo} - duracion: {self.duracion} - termina: {self.tiempo_fin}\\n\"\n",
    "    \n",
    "    \n",
    "class EventoFinalizacion(Evento):\n",
    "    def __init__(self, evento_inicio, **kwargs):\n",
    "        Evento.__init__(self,**kwargs)\n",
    "        self.evento_inicio = evento_inicio\n",
    "    \n",
    "    def __repr__(self):\n",
    "        return \"f{self.id} - {self.nombre} a {self.evento_inicio.id} - inicia: {self.arribo} - duracion: {self.duracion} - termina: {self.tiempo_fin}\\n\""
   ]
  },
  {
   "cell_type": "code",
   "execution_count": 380,
   "metadata": {},
   "outputs": [],
   "source": [
    "def hayCamaLibre(lista_camas):\n",
    "    \"\"\"\n",
    "    Consulta si hay una cama libre\n",
    "    \"\"\"\n",
    "    return any(not cama.ocupada for cama in lista_camas)"
   ]
  },
  {
   "cell_type": "code",
   "execution_count": 381,
   "metadata": {},
   "outputs": [],
   "source": [
    "def hayQuirofanoLibre(lista_quirofanos):\n",
    "    \"\"\"\n",
    "    Consulta si hay un quirofano libre\n",
    "    \"\"\"\n",
    "    return any(not quirofano.ocupado for quirofano in lista_quirofanos)"
   ]
  },
  {
   "cell_type": "code",
   "execution_count": 382,
   "metadata": {},
   "outputs": [],
   "source": [
    "def ordenarEventos(fel):\n",
    "    \"\"\"\n",
    "    Ordena la lista de eventos por tiempod de arribo\n",
    "    \"\"\"\n",
    "    fel.sort(key=lambda evento: evento.arribo)\n",
    "    return fel"
   ]
  },
  {
   "cell_type": "code",
   "execution_count": 383,
   "metadata": {},
   "outputs": [],
   "source": [
    "def removerEvento(fel, evento):\n",
    "    \"\"\"\n",
    "    remueve el siguiente evento de la FEL\n",
    "    \"\"\"\n",
    "    if evento in fel:\n",
    "        fel.remove(evento)\n",
    "    return ordenarEventos(fel)"
   ]
  },
  {
   "cell_type": "code",
   "execution_count": 384,
   "metadata": {},
   "outputs": [],
   "source": [
    "def crearFEL(paciente, cantidad_pacientes):\n",
    "    \"\"\"\n",
    "    Crea la FEL con eventos de arribo paciente segun el tipo\n",
    "    de paciente y la cantidad de pacientes que arriban\n",
    "    \"\"\"\n",
    "    lista_eventos = []\n",
    "    for i in range(cantidad_pacientes):\n",
    "        lista_eventos.append()\n",
    "    return ordenarEventos(lista_eventos)"
   ]
  },
  {
   "cell_type": "code",
   "execution_count": 385,
   "metadata": {},
   "outputs": [],
   "source": [
    "def agregar_eventos_llegada(fel, prefijo, cantidad_pacientes):\n",
    "    \"\"\"\n",
    "    En este caso corrida va a ir a la par con el reloj\n",
    "    \"\"\"\n",
    "    fel\n",
    "    #Inicializamos la fel\n",
    "    for id_paciente in range(cantidad_pacientes): \n",
    "        tipoPaciente = None\n",
    "        indicador = round(np.random.uniform(0,100))\n",
    "            \n",
    "        if (indicador <= 20): #el 20% de los pacientes vienen a operarse\n",
    "            tipoPaciente = \"OPERACION\"\n",
    "        else: #el restante 80% solo viene a internarse\n",
    "            tipoPaciente= \"INTERNACION\"\n",
    "            \n",
    "        paciente = Paciente(\"f{prefijo}-C{id_paciente}\",tipoPaciente)\n",
    "        evento = Evento(paciente.prefijo, \"INGRESA_PACIENTE\", paciente, paciente.tiempoLlegada, 0)\n",
    "        agregarEventoAFel(evento, fel)\n",
    "    return fel"
   ]
  },
  {
   "cell_type": "code",
   "execution_count": 386,
   "metadata": {},
   "outputs": [],
   "source": [
    "def inicializar_camas(cantidad_camas):\n",
    "    lista_camas = []\n",
    "    #Inicializamos las camas\n",
    "    for i in range(cantidad_camas):\n",
    "        lista_camas.append(Cama(i))\n",
    "    return lista_camas"
   ]
  },
  {
   "cell_type": "code",
   "execution_count": 387,
   "metadata": {},
   "outputs": [],
   "source": [
    "def getCamaLibre(lista_camas):\n",
    "    for cama in lista_camas:\n",
    "        if (not cama.ocupada): \n",
    "            return cama"
   ]
  },
  {
   "cell_type": "code",
   "execution_count": 388,
   "metadata": {},
   "outputs": [],
   "source": [
    "def getQuirofanoLibre(lista_quirofanos):\n",
    "    for quirofano in lista_quirofanos:\n",
    "        if (not quirofano.ocupado): \n",
    "            return quirofano"
   ]
  },
  {
   "cell_type": "code",
   "execution_count": 389,
   "metadata": {},
   "outputs": [],
   "source": [
    "def agregarEventoAFel(evento, fel):\n",
    "    \"\"\"\n",
    "    Esta funcion agrega eventos al diccionario fel. Si el diccionario\n",
    "    tiene eventos en la lista, agrega el evento a la lista existente.\n",
    "    la clave de la fel es el tiempo de llegada del evento que es un entero\n",
    "    \"\"\"\n",
    "    lista_eventos = fel.get(evento.arribo, None)\n",
    "    if lista_eventos:\n",
    "        fel[evento.arribo].append(evento) #agrego el evento a la lista de eventos existente\n",
    "    else:\n",
    "        fel[evento.arribo]=[evento] #agrego la lista de eventos para ese momento de reloj en la fel"
   ]
  },
  {
   "cell_type": "code",
   "execution_count": 390,
   "metadata": {},
   "outputs": [],
   "source": [
    "def modificar_horario_eventos(fel,tope_reloj):\n",
    "    fel2 = {}\n",
    "    for k in fel:\n",
    "        for e in fel[k]:\n",
    "            e.arribo -= tope_reloj\n",
    "            agregarEventoAFel(e,fel2)\n",
    "    return fel2"
   ]
  },
  {
   "cell_type": "code",
   "execution_count": 391,
   "metadata": {},
   "outputs": [],
   "source": [
    "def inicializar_quirofanos(cant):\n",
    "    lista_quirofanos = []\n",
    "    for i in range(cant):\n",
    "        lista_quirofanos.append(Quirofano(i))\n",
    "    return lista_quirofanos"
   ]
  },
  {
   "cell_type": "code",
   "execution_count": 392,
   "metadata": {},
   "outputs": [],
   "source": [
    "def operar(fel, quirofano, e, reloj):\n",
    "    paciente = e.objeto\n",
    "    quirofano.marcarOcupado()\n",
    "    quirofano.actualizarTiempoOcupacion(paciente.duracionOperacion)\n",
    "    evento_fin_operacion = EventoFinalizacion(evento_inicio=e, #evento_inicio es el evento arribo relacionado al evento Fin\n",
    "                                                        nombre=\"FINALIZA_OPERACION\", \n",
    "                                                        objeto=quirofano, \n",
    "                                                        _id=\"f{i}{j}\",\n",
    "                                                        arribo=reloj + paciente.duracionOperacion, \n",
    "                                                        duracion=paciente.duracionOperacion) \n",
    "    agregarEventoAFel(evento_fin_operacion, fel)"
   ]
  },
  {
   "cell_type": "code",
   "execution_count": 393,
   "metadata": {},
   "outputs": [],
   "source": [
    "def internar(fel, cama, e, reloj):\n",
    "    paciente = e.objeto\n",
    "    cama.marcarOcupada()\n",
    "    cama.actualizar_ocupacion()\n",
    "    evento_fin_internacion = EventoFinalizacion(evento_inicio=e, #evento_inicio es el evento arribo relacionado al evento Fin\n",
    "                                                            nombre=\"FINALIZA_INTERNACION\", \n",
    "                                                            objeto=cama, \n",
    "                                                            _id=\"f{i}{j}\",\n",
    "                                                            arribo=reloj + paciente.duracionInternacion, \n",
    "                                                            duracion=paciente.duracionInternacion) \n",
    "    agregarEventoAFel(evento_fin_internacion, fel)"
   ]
  },
  {
   "cell_type": "code",
   "execution_count": 394,
   "metadata": {},
   "outputs": [],
   "source": [
    "def getEventosPorCondicion(lista_eventos):\n",
    "    \"\"\"\n",
    "    Esta funcion sirve para determinar cuales eventos de una lista de eventos \n",
    "    en un instante de reloj son para ser realizados en las actividades de \n",
    "    quirofano libre o cama libre.\n",
    "    \"\"\"\n",
    "    eventos_internarse=[]\n",
    "    eventos_operarse = []\n",
    "    eventos_fin_internacion = []\n",
    "    eventos_fin_operacion = []\n",
    "\n",
    "    for evento in lista_eventos:\n",
    "        if evento.nombre == \"INGRESA_PACIENTE\":\n",
    "            if evento.objeto.tipo == \"INTERNACION\":\n",
    "                eventos_internarse.append(evento)\n",
    "            else:\n",
    "                eventos_operarse.append(evento)\n",
    "        \n",
    "        elif evento.nombre == \"INICIA_OPERACION\":\n",
    "            eventos\n",
    "        \n",
    "        elif evento.nombre == \"FINALIZA_OPERACION\":\n",
    "            eventos_fin_operacion.append(evento)\n",
    "        \n",
    "        else: # FIN DE INTERNACION o Alta de un paciente\n",
    "            eventos_fin_internacion.append(evento)\n",
    "    return eventos_internarse, eventos_operarse, eventos_fin_internacion, eventos_fin_operacion"
   ]
  },
  {
   "cell_type": "code",
   "execution_count": 395,
   "metadata": {},
   "outputs": [],
   "source": [
    "def simulacion(cant_experimentos, cant_corridas, cant_pacientes, cant_quirofanos, cant_camas, apertura_quirofano, cierre_quirofano):\n",
    "    # Esqueleto para simulación con escaneo de actividades\n",
    "    APERTURA = apertura_quirofano * 60\n",
    "    CIERRE = cierre_quirofano * 60\n",
    "    delta = 1 # Incremento para el valor del reloj\n",
    "    tope_reloj = 24*60 # Definimos un punto para cortar la ejecución, en este caso 24 hs (en minutos)\n",
    "    \n",
    "    esperas = [] #Espera por una cama experimento\n",
    "    esperas_camas = []\n",
    "    esperas_quirofanos = []\n",
    "    camas_desocupadas = []\n",
    "    lista_quirofanos = inicializar_quirofanos(cant_quirofanos)\n",
    "    \n",
    "    for i in range(cant_experimentos):\n",
    "        fel ={}\n",
    "        espera_camas = []\n",
    "        espera_quirofanos = []\n",
    "        cant_camas_desocupadas = 0\n",
    "        lista_camas =inicializar_camas(cant_camas)\n",
    "        for j in range(cant_corridas):\n",
    "            prefijo = \"f{i}{j}\" # un prefijo para identificar los eventos de cada experimento/corrida\n",
    "            fel = agregar_eventos_llegada(fel, prefijo, cant_pacientes)\n",
    "            cola_camas = []\n",
    "            cola_quirofanos = []\n",
    "            reloj = list(sorted(fel))[0] # Iniciamos/reiniciamos el reloj\n",
    "            while reloj <= tope_reloj and len(fel) != 0:\n",
    "                # TODO: checkear el horario de apertura del hospital\n",
    "                # Obtenemos todos los eventos diferenciados desde la lista de eventos\n",
    "                eventos_internarse, eventos_operarse, eventos_fin_internacion, eventos_fin_operacion = getEventosPorCondicion(fel[reloj])\n",
    "                \n",
    "                # Si hay eventos de finalizacion los hago primero para poder seguir procesando nuevas llegadas\n",
    "                if (eventos_fin_internacion or eventos_fin_operacion):\n",
    "                    for evento in eventos_fin_internacion:\n",
    "                        cama = evento.objeto #si evento es fin de internacion el objeto es una cama\n",
    "                        cama.marcarDesocupada()\n",
    "                        if len(cola_camas) != 0:#Si hay un paciente esperando lo interno\n",
    "                            e = cola_camas[0]\n",
    "                            internar(fel, cama, e, reloj)\n",
    "                            espera_camas.append(reloj - e.objeto.tiempoLlegada)\n",
    "                            cola_camas.remove(e)\n",
    "                            if e.objeto.tipo == \"OPERACION\":\n",
    "                                e.objeto.tiempoLlegada = reloj\n",
    "                                cola_quirofanos.append(e)\n",
    "                                \n",
    "                        \n",
    "                    for evento in eventos_fin_operacion:\n",
    "                        quirofano = evento.objeto #si evento es fin de operacion el objetoes un quirofano\n",
    "                        quirofano.marcarDesocupado()\n",
    "                        if len(cola_quirofanos) != 0 and (APERTURA >= reloj <= CIERRE):#asigno quirofano\n",
    "                            e = cola_quirofanos[0]\n",
    "                            operar(fel, quirofano, e, reloj)\n",
    "                            espera_quirofanos.append(reloj - e.objeto.tiempoLlegada)\n",
    "                            cola_quirofanos.remove(e)\n",
    "                            \n",
    "\n",
    "                    # Procesamos eventos que ocurren en este momento de reloj\n",
    "                    # y que puedan procesarse bajo esta condicion\n",
    "                if hayCamaLibre(lista_camas):\n",
    "                    for e in eventos_internarse:\n",
    "                        cama = getCamaLibre(lista_camas)\n",
    "                        if cama != None: \n",
    "                            internar(fel, cama, e, reloj)\n",
    "                            espera_camas.append(reloj - e.objeto.tiempoLlegada)\n",
    "                        else:\n",
    "                            cola_camas.append(e)\n",
    "                else:#Ponemos a los pacientes en espera\n",
    "                    for e in eventos_internarse:\n",
    "                        cola_camas.append(e)\n",
    "                    \n",
    "                if hayQuirofanoLibre(lista_quirofanos) and hayCamaLibre(lista_camas) and (APERTURA >= reloj <= CIERRE) :\n",
    "                    # Ejecutamos actividad con todos los eventoss\n",
    "                    for e in eventos_operarse:\n",
    "                        paciente = e.objeto\n",
    "                        quirofano = getQuirofanoLibre(lista_quirofanos)\n",
    "                        cama = getCamaLibre(lista_camas)\n",
    "                        if cama!= None:\n",
    "                            internar(fel, cama, e, reloj)\n",
    "                            espera_camas.append(reloj - e.objeto.tiempoLlegada)\n",
    "                            if quirofano != None:\n",
    "                                operar(fel, quirofano, e, reloj)\n",
    "                                espera_quirofanos.append(reloj - e.objeto.tiempoLlegada)\n",
    "                            else: \n",
    "                                cola_quirofanos.append(e)\n",
    "                        else:\n",
    "                            cola_camas.append(e)\n",
    "                else:#Ponemos a los pacientes en espera de una cama o quirofano\n",
    "                    if not hayCamaLibre(lista_camas):\n",
    "                        for e in eventos_operarse:\n",
    "                            cola_camas.append(e)\n",
    "                    else:\n",
    "                        for e in eventos_operarse:\n",
    "                            cola_quirofanos.append(e)\n",
    "                        \n",
    "                \n",
    "                # Retiramos eventos procesados de la fel para el instante correspondiente\n",
    "                fel.pop(reloj)\n",
    "                \n",
    "                reloj = list(sorted(fel))[0] # Avanzamos el reloj al siguiente incremento.\n",
    "                if reloj > tope_reloj:\n",
    "                    fel = modificar_horario_eventos(fel,tope_reloj)\n",
    "\n",
    "                \n",
    "            # Finalizó el procesamiento para esta corrida, hacemos la estadistica necesaria por corrida aqui\n",
    "            for cama in lista_camas:\n",
    "                if cama.contador_ocupacion == 0:\n",
    "                    cant_camas_desocupadas +=1\n",
    "\n",
    "        # Finalizó el procesamiento para este experimento, hacemos la estadistica necesaria por experimento aqui\n",
    "        espera = stats.mean(espera_camas) + stats.mean(espera_quirofanos)\n",
    "        esperas_camas.append(stats.mean(espera_camas))\n",
    "        esperas_quirofanos.append(stats.mean(espera_quirofanos))\n",
    "        esperas.append(espera)\n",
    "        camas_desocupadas.append(cant_camas_desocupadas / cant_corridas)\n",
    "        \n",
    "    # Finalizaron los experimentos, hacemos las estadísticas finales, gráficos y reportes aquí\n",
    "    promedio_espera = stats.mean(esperas)\n",
    "    \n",
    "    promedio_camas_desocupadas = round(stats.mean(camas_desocupadas))\n",
    "    porcentaje_camas_desocupadas = promedio_camas_desocupadas / cant_camas * 100\n",
    "    \n",
    "    tiempo_total = (CIERRE - APERTURA) * (cant_experimentos * cant_corridas)\n",
    "    \n",
    "    print(\"En promedio la espera actual de los pacientes es de\", promedio_espera, \" minutos.\")\n",
    "    print(\"En promedio la espera por cama es de\",stats.mean(esperas_camas), \" minutos.\")\n",
    "    print(\"En promedio la espera por quirofano es de\",stats.mean(esperas_quirofanos), \" minutos.\")\n",
    "    print(\"En promedio quedan \",promedio_camas_desocupadas,\"camas desocupadas, representando el \", porcentaje_camas_desocupadas,\"% del total de camas disponibles\")\n",
    "    for quirofano in lista_quirofanos:\n",
    "        porcentaje = (quirofano.tiempoOcupacion / tiempo_total) * 100 \n",
    "        print(\"El porcentaje de tiempo que el quirofano\", quirofano.id,\" esta en uso es \", porcentaje)\n",
    "    \n",
    "    \n",
    "    sns.set()\n",
    "    sns.distplot(esperas,color=\"g\")\n",
    "    plt.show()\n",
    "    "
   ]
  },
  {
   "cell_type": "code",
   "execution_count": 396,
   "metadata": {},
   "outputs": [
    {
     "name": "stdout",
     "output_type": "stream",
     "text": [
      "En promedio la espera actual de los pacientes es de 92.64766758427334  minutos.\n",
      "En promedio la espera por cama es de 9.16642283412762  minutos.\n",
      "En promedio la espera por quirofano es de 83.4812447501457  minutos.\n",
      "En promedio quedan  1 camas desocupadas, representando el  0.3448275862068966 % del total de camas disponibles\n",
      "El porcentaje de tiempo que el quirofano 0  esta en uso es  19.852731824464957\n",
      "El porcentaje de tiempo que el quirofano 1  esta en uso es  15.059894729011432\n",
      "El porcentaje de tiempo que el quirofano 2  esta en uso es  10.460531049177636\n",
      "El porcentaje de tiempo que el quirofano 3  esta en uso es  8.680190889682862\n",
      "El porcentaje de tiempo que el quirofano 4  esta en uso es  7.018649620544531\n",
      "El porcentaje de tiempo que el quirofano 5  esta en uso es  6.82911932218677\n",
      "El porcentaje de tiempo que el quirofano 6  esta en uso es  4.9836595942027895\n",
      "El porcentaje de tiempo que el quirofano 7  esta en uso es  4.485499282401717\n"
     ]
    },
    {
     "data": {
      "image/png": "[encoded data removed]",
      "text/plain": [
       "<Figure size 432x288 with 1 Axes>"
      ]
     },
     "metadata": {},
     "output_type": "display_data"
    }
   ],
   "source": [
    "simulacion(cant_experimentos =12, cant_corridas = 30, cant_pacientes = 300, cant_quirofanos = 8, cant_camas = 290,\n",
    "           apertura_quirofano=8,cierre_quirofano=20)\n",
    "\n"
   ]
  },
  {
   "cell_type": "code",
   "execution_count": null,
   "metadata": {},
   "outputs": [],
   "source": []
  },
  {
   "cell_type": "code",
   "execution_count": null,
   "metadata": {},
   "outputs": [],
   "source": []
  },
  {
   "cell_type": "code",
   "execution_count": null,
   "metadata": {},
   "outputs": [],
   "source": []
  },
  {
   "cell_type": "markdown",
   "metadata": {},
   "source": []
  }
 ],
 "metadata": {
  "kernelspec": {
   "display_name": "Python 3",
   "language": "python",
   "name": "python3"
  },
  "language_info": {
   "codemirror_mode": {
    "name": "ipython",
    "version": 3
   },
   "file_extension": ".py",
   "mimetype": "text/x-python",
   "name": "python",
   "nbconvert_exporter": "python",
   "pygments_lexer": "ipython3",
   "version": "3.8.2"
  }
 },
 "nbformat": 4,
 "nbformat_minor": 2
}
