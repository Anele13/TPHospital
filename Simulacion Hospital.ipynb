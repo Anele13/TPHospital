{
 "cells": [
  {
   "cell_type": "code",
   "execution_count": 2,
   "metadata": {},
   "outputs": [],
   "source": [
    "import numpy as np\n",
    "import seaborn as sb"
   ]
  },
  {
   "cell_type": "code",
   "execution_count": 16,
   "metadata": {},
   "outputs": [],
   "source": [
    "class Paciente():\n",
    "    def __init__(self, tipo):\n",
    "        self.tiempoLlegada = np.random.poisson(220) #llegada de pacienes con media=220 y poisson\n",
    "        self.tipo = tipo\n",
    "        if tipo == \"internacion\":\n",
    "            self.duracionInternacion = round(np.random.uniform(1,3)) \n",
    "        else:\n",
    "            self.duracionInternacion = round(np.random.uniform(2,5)) #2 y 5 días para pacientes operados"
   ]
  },
  {
   "cell_type": "code",
   "execution_count": 4,
   "metadata": {},
   "outputs": [],
   "source": [
    "class Cama():\n",
    "    def __init__(self, id):\n",
    "        self.id = id\n",
    "        self.ocupada = False"
   ]
  },
  {
   "cell_type": "code",
   "execution_count": 14,
   "metadata": {},
   "outputs": [],
   "source": [
    "class Quirofano():\n",
    "    def __init__(self,id):\n",
    "        self.id = id\n",
    "        self.ocupado = False\n",
    "        self.abierto = True"
   ]
  },
  {
   "cell_type": "code",
   "execution_count": 9,
   "metadata": {},
   "outputs": [],
   "source": [
    "class Evento():\n",
    "    def __init__(self, _id, nombre, objeto, arribo, duracion):\n",
    "        self.id = _id\n",
    "        self.nombre = nombre\n",
    "        self.arribo = arribo\n",
    "        self.duracion = duracion\n",
    "        self.tiempo_fin = arribo + duracion\n",
    "        self.objeto = objeto\n",
    "        \n",
    "    def __repr__(self):\n",
    "        return f\"{self.id} - {self.nombre} - arribo: {self.arribo} - duracion: {self.duracion} - termina: {self.tiempo_fin}\\n\"\n",
    "    \n",
    "    \n",
    "class EventoFinAtencion(Evento):\n",
    "    def __init__(self, evento_inicio, **kwargs):\n",
    "        super(EventoFinAtencion, self).__init__(**kwargs)\n",
    "        self.evento_inicio = evento_inicio\n",
    "    \n",
    "    def __repr__(self):\n",
    "        return f\"{self.id} - {self.nombre} a {self.evento_inicio.id} - inicia: {self.arribo} - duracion: {self.duracion} - termina: {self.tiempo_fin}\\n\"   "
   ]
  },
  {
   "cell_type": "code",
   "execution_count": 10,
   "metadata": {},
   "outputs": [],
   "source": [
    "def hayCamaLibre(lista_camas):\n",
    "    \"\"\"\n",
    "    Consulta si hay una cama libre\n",
    "    \"\"\"\n",
    "    return any(not cama.ocupada for cama in lista_camas)"
   ]
  },
  {
   "cell_type": "code",
   "execution_count": 12,
   "metadata": {},
   "outputs": [],
   "source": [
    "def hayQuirofanoLibre(lista_quirofanos):\n",
    "    \"\"\"\n",
    "    Consulta si hay un quirofano libre\n",
    "    \"\"\"\n",
    "    return any(not quirofano.ocupado for quirofano in lista_quirofanos)"
   ]
  },
  {
   "cell_type": "code",
   "execution_count": null,
   "metadata": {},
   "outputs": [],
   "source": [
    "def ordenarEventos(fel):\n",
    "    \"\"\"\n",
    "    Ordena la lista de eventos por tiempod de arribo\n",
    "    \"\"\"\n",
    "    fel.sort(key=lambda evento: evento.arribo)\n",
    "    return fel"
   ]
  },
  {
   "cell_type": "code",
   "execution_count": null,
   "metadata": {},
   "outputs": [],
   "source": [
    "def removerEvento(fel, evento):\n",
    "    \"\"\"\n",
    "    remueve el siguiente evento de la FEL\n",
    "    \"\"\"\n",
    "    if evento in fel:\n",
    "        fel.remove(evento)\n",
    "    return ordenarEventos(fel)"
   ]
  },
  {
   "cell_type": "code",
   "execution_count": null,
   "metadata": {},
   "outputs": [],
   "source": [
    "def crearFEL(paciente, cantidad_pacientes):\n",
    "    \"\"\"\n",
    "    Crea la FEL con eventos de arribo paciente segun el tipo\n",
    "    de paciente y la cantidad de pacientes que arriban\n",
    "    \"\"\"\n",
    "    lista_eventos = []\n",
    "    for i in cantidad_pacientes\n",
    "        lista.append(Evento(f\"{prefijo}-C{id_paciente}\", \"ARRIBO_PACIENTE\", paciente, paciente.tiempoLlegada, 0))\n",
    "    return ordenarEventos(lista_eventos)"
   ]
  },
  {
   "cell_type": "code",
   "execution_count": null,
   "metadata": {},
   "outputs": [],
   "source": [
    "def inicializarModelo(prefijo, cantidad_corridas, cantidad_pacientes, cantidad_quirofanos, cantidad_camas):\n",
    "    \"\"\"\n",
    "    En este caso corrida va a ir a la par con el reloj\n",
    "    \"\"\"\n",
    "    fel = {}\n",
    "    lista_camas = []\n",
    "    lista_quirofanos = []\n",
    "    \n",
    "    #Inicializamos la fel\n",
    "    for corrida in cantidad_corridas:\n",
    "        for id_paciente in range(cantidad_pacientes): \n",
    "            tipoPaciente = None\n",
    "            indicador = random(np.random.uniform(0,100))\n",
    "            if (indicador <= 20) #el 20% de los pacientes vienen a operarse\n",
    "                tipoPaciente = \"operacion\"\n",
    "            else: #el restante 80% solo viene a internarse\n",
    "                tipoPaciente= \"internacion\"\n",
    "            paciente = Paciente(f\"{prefijo}-C{id_paciente}\",tipoPaciente)\n",
    "            fel[corrida] = crearFEL(paciente, cantidad_pacientes)\n",
    "\n",
    "    #Inicializamos los quirofanos\n",
    "    for i in range(cantidad_quirofanos):\n",
    "        lista_quirofanos.append(Quirofano(i))\n",
    "        \n",
    "    #Inicializamos las camas\n",
    "    for i in range(cantidad_camas):\n",
    "        lista_camas.append(Cama(i))\n",
    "        \n",
    "    return ordenarEventos(fel), lista_quirofanos, lista_camas"
   ]
  },
  {
   "cell_type": "code",
   "execution_count": 15,
   "metadata": {},
   "outputs": [],
   "source": [
    "def asignarCama():\n",
    "    pass"
   ]
  },
  {
   "cell_type": "code",
   "execution_count": null,
   "metadata": {},
   "outputs": [],
   "source": [
    "def asignarQuirofano():\n",
    "    pass"
   ]
  },
  {
   "cell_type": "code",
   "execution_count": null,
   "metadata": {},
   "outputs": [],
   "source": [
    "def simulacion(cant_experimentos, cant_corridas):\n",
    "    # Esqueleto para simulación con escaneo de actividades\n",
    "    delta = 1 # Incremento para el valor del reloj\n",
    "    tope_reloj = 24*60 # Definimos un punto para cortar la ejecución, en este caso 24 hs (en minutos)\n",
    "    # Acá pueden declarar listas o variables que crean necesarias para toda la simulación\n",
    "\n",
    "    for i in range(cant_experimentos):\n",
    "        for j in range(cant_corridas):\n",
    "            prefijo = f\"{i}{j}\" # un prefijo para identificar los eventos de cada experimento/corrida\n",
    "            fel, lista_quirofanos, lista_camas = inicializarModelo(prefijo, cantidad_corridas, cantidad_pacientes, cantidad_quirofanos, cantidad_camas)\n",
    "            reloj = 0 # Iniciamos/reiniciamos el reloj\n",
    "            while reloj <= tope_reloj or len(fel) != 0:\n",
    "                # TODO: checkear el horario de apertura del hospital\n",
    "                # Verificamos condiciones de nuestras actividades\n",
    "                if hayCamaLibre():\n",
    "                    # Procesamos eventos que ocurren en este momento de reloj\n",
    "                    # y que puedan procesarse bajo esta condicion\n",
    "                    eventos = fel[reloj]\n",
    "                    # Ejecutamos actividad con todos los eventos\n",
    "                    for e in eventos:\n",
    "                        asignarCama(eventos)\n",
    "                        # Calculamos estadisticas si es necesario\n",
    "\n",
    "                    # Retiramos eventos procesados de la fel para el instante correspondiente\n",
    "                    fel.pop(reloj, None)\n",
    "                    # Posiblemente generemos nuevos eventos para la fel\n",
    "                    \n",
    "                if hayQuirofanoLibre():\n",
    "                    asignarQuirofano()\n",
    "                    # ...\n",
    "                    eventos = fel[reloj]\n",
    "                    # Ejecutamos actividad con todos los eventos\n",
    "                    for e in eventos:\n",
    "                        asignarCama(eventos)\n",
    "                        # Calculamos estadisticas si es necesario\n",
    "\n",
    "                    # Retiramos eventos procesados de la fel para el instante correspondiente\n",
    "                    fel.pop(reloj, None)\n",
    "                    # Posiblemente generemos nuevos eventos para la fel\n",
    "                #...\n",
    "\n",
    "\n",
    "                reloj += delta # Avanzamos el reloj al siguiente incremento.\n",
    "\n",
    "            # Finalizó el procesamiento para esta corrida, hacemos la estadistica necesaria por corrida aqui\n",
    "\n",
    "        # Finalizó el procesamiento para este experimento, hacemos la estadistica necesaria por experimento aqui\n",
    "\n",
    "    # Finalizaron los experimentos, hacemos las estadísticas finales, gráficos y reportes aquí"
   ]
  }
 ],
 "metadata": {
  "kernelspec": {
   "display_name": "Python 3",
   "language": "python",
   "name": "python3"
  },
  "language_info": {
   "codemirror_mode": {
    "name": "ipython",
    "version": 3
   },
   "file_extension": ".py",
   "mimetype": "text/x-python",
   "name": "python",
   "nbconvert_exporter": "python",
   "pygments_lexer": "ipython3",
   "version": "3.6.9"
  }
 },
 "nbformat": 4,
 "nbformat_minor": 2
}
