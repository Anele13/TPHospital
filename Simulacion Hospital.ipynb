{
 "cells": [
  {
   "cell_type": "code",
   "execution_count": 30,
   "metadata": {},
   "outputs": [],
   "source": [
    "import numpy as np\n",
    "import seaborn as sb"
   ]
  },
  {
   "cell_type": "code",
   "execution_count": 50,
   "metadata": {},
   "outputs": [],
   "source": [
    "class Paciente():\n",
    "    def __init__(self,prefijo,tipo):\n",
    "        self.prefijo = prefijo\n",
    "        self.tiempoLlegada = round(np.random.poisson(220)) #llegada de pacienes con media=220 y poisson\n",
    "        self.tipo = tipo\n",
    "        if tipo == \"internacion\":\n",
    "            self.duracionInternacion = round(np.random.uniform(1,3)) \n",
    "        else:\n",
    "            self.duracionInternacion = round(np.random.uniform(2,5)) #2 y 5 días para pacientes operados"
   ]
  },
  {
   "cell_type": "code",
   "execution_count": 99,
   "metadata": {},
   "outputs": [],
   "source": [
    "class Cama():\n",
    "    def __init__(self, id):\n",
    "        self.id = id\n",
    "        self.ocupada = False\n",
    "    \n",
    "    def marcarOcupada():\n",
    "        self.ocupada = True\n",
    "    \n",
    "    def marcarDesocupada():\n",
    "        self.ocupada = False"
   ]
  },
  {
   "cell_type": "code",
   "execution_count": 100,
   "metadata": {},
   "outputs": [],
   "source": [
    "class Quirofano():\n",
    "    def __init__(self,id):\n",
    "        self.id = id\n",
    "        self.ocupado = False\n",
    "        self.abierto = True\n",
    "    \n",
    "    def marcarOcupado():\n",
    "        self.ocupado = True\n",
    "    \n",
    "    def marcarDesocupado():\n",
    "        self.ocupado = False"
   ]
  },
  {
   "cell_type": "code",
   "execution_count": 101,
   "metadata": {},
   "outputs": [],
   "source": [
    "class Evento():\n",
    "    def __init__(self, _id, nombre, objeto, arribo, duracion):\n",
    "        self.id = _id\n",
    "        self.nombre = nombre\n",
    "        self.arribo = arribo\n",
    "        self.duracion = duracion\n",
    "        self.tiempo_fin = arribo + duracion\n",
    "        self.objeto = objeto\n",
    "        \n",
    "    def __repr__(self):\n",
    "        return f\"{self.id} - {self.nombre} - arribo: {self.arribo} - duracion: {self.duracion} - termina: {self.tiempo_fin}\\n\"\n",
    "    \n",
    "    \n",
    "class EventoFinAtencion(Evento):\n",
    "    def __init__(self, evento_inicio, **kwargs):\n",
    "        super(EventoFinAtencion, self).__init__(**kwargs)\n",
    "        self.evento_inicio = evento_inicio\n",
    "    \n",
    "    def __repr__(self):\n",
    "        return f\"{self.id} - {self.nombre} a {self.evento_inicio.id} - inicia: {self.arribo} - duracion: {self.duracion} - termina: {self.tiempo_fin}\\n\"   "
   ]
  },
  {
   "cell_type": "code",
   "execution_count": 102,
   "metadata": {},
   "outputs": [],
   "source": [
    "def hayCamaLibre(lista_camas):\n",
    "    \"\"\"\n",
    "    Consulta si hay una cama libre\n",
    "    \"\"\"\n",
    "    return any(not cama.ocupada for cama in lista_camas)"
   ]
  },
  {
   "cell_type": "code",
   "execution_count": 103,
   "metadata": {},
   "outputs": [],
   "source": [
    "def hayQuirofanoLibre(lista_quirofanos):\n",
    "    \"\"\"\n",
    "    Consulta si hay un quirofano libre\n",
    "    \"\"\"\n",
    "    return any(not quirofano.ocupado for quirofano in lista_quirofanos)"
   ]
  },
  {
   "cell_type": "code",
   "execution_count": 104,
   "metadata": {},
   "outputs": [],
   "source": [
    "def ordenarEventos(fel):\n",
    "    \"\"\"\n",
    "    Ordena la lista de eventos por tiempod de arribo\n",
    "    \"\"\"\n",
    "    fel.sort(key=lambda evento: evento.arribo)\n",
    "    return fel"
   ]
  },
  {
   "cell_type": "code",
   "execution_count": 105,
   "metadata": {},
   "outputs": [],
   "source": [
    "def removerEvento(fel, evento):\n",
    "    \"\"\"\n",
    "    remueve el siguiente evento de la FEL\n",
    "    \"\"\"\n",
    "    if evento in fel:\n",
    "        fel.remove(evento)\n",
    "    return ordenarEventos(fel)"
   ]
  },
  {
   "cell_type": "code",
   "execution_count": 106,
   "metadata": {},
   "outputs": [],
   "source": [
    "def crearFEL(paciente, cantidad_pacientes):\n",
    "    \"\"\"\n",
    "    Crea la FEL con eventos de arribo paciente segun el tipo\n",
    "    de paciente y la cantidad de pacientes que arriban\n",
    "    \"\"\"\n",
    "    lista_eventos = []\n",
    "    for i in range(cantidad_pacientes):\n",
    "        lista_eventos.append(Evento(paciente.prefijo, \"ARRIBO_PACIENTE\", paciente, paciente.tiempoLlegada, 0))\n",
    "    return ordenarEventos(lista_eventos)"
   ]
  },
  {
   "cell_type": "code",
   "execution_count": 107,
   "metadata": {},
   "outputs": [],
   "source": [
    "def inicializarModelo(prefijo, cantidad_corridas, cantidad_pacientes, cantidad_quirofanos, cantidad_camas):\n",
    "    \"\"\"\n",
    "    En este caso corrida va a ir a la par con el reloj\n",
    "    \"\"\"\n",
    "    fel = {}\n",
    "    lista_camas = []\n",
    "    lista_quirofanos = []\n",
    "    \n",
    "    #Inicializamos la fel\n",
    "    for corrida in range(cantidad_corridas):\n",
    "        for id_paciente in range(cantidad_pacientes): \n",
    "            tipoPaciente = None\n",
    "            indicador = round(np.random.uniform(0,100))\n",
    "            if (indicador <= 20): #el 20% de los pacientes vienen a operarse\n",
    "                tipoPaciente = \"operacion\"\n",
    "            else: #el restante 80% solo viene a internarse\n",
    "                tipoPaciente= \"internacion\"\n",
    "            paciente = Paciente(f\"{prefijo}-C{id_paciente}\",tipoPaciente)\n",
    "            fel[corrida] = crearFEL(paciente, cantidad_pacientes)\n",
    "\n",
    "    #Inicializamos los quirofanos\n",
    "    for i in range(cantidad_quirofanos):\n",
    "        lista_quirofanos.append(Quirofano(i))\n",
    "        \n",
    "    #Inicializamos las camas\n",
    "    for i in range(cantidad_camas):\n",
    "        lista_camas.append(Cama(i))\n",
    "        \n",
    "    return fel, lista_quirofanos, lista_camas"
   ]
  },
  {
   "cell_type": "code",
   "execution_count": 108,
   "metadata": {},
   "outputs": [],
   "source": [
    "def asignarCama(eventos):\n",
    "    pass"
   ]
  },
  {
   "cell_type": "code",
   "execution_count": 109,
   "metadata": {},
   "outputs": [],
   "source": [
    "def asignarQuirofano(eventos):\n",
    "    pass"
   ]
  },
  {
   "cell_type": "code",
   "execution_count": null,
   "metadata": {},
   "outputs": [],
   "source": [
    "def getEventosPorCondicion(lista_eventos):\n",
    "    \"\"\"\n",
    "    Esta funcion sirve para determinar cuales eventos de una lista de eventos \n",
    "    en un instante de reloj son para ser realizados en las actividades de \n",
    "    quirofano libre o cama libre.\n",
    "    \"\"\"\n",
    "    eventos_internarse=[]\n",
    "    eventos_operarse = []\n",
    "    eventos_fin_internacion = []\n",
    "    eventos_fin_operacion = []\n",
    "\n",
    "    for evento in lista_eventos:\n",
    "        if (evento.objeto.tipo == 'internacion'):\n",
    "            eventos_cama_libre.append(evento)\n",
    "        elif:\n",
    "            pass #TODO: seguir implementando\n",
    "    \n",
    "    return eventos_internarse, eventos_operarse, eventos_fin_internacion, eventos_fin_operacion\n"
   ]
  },
  {
   "cell_type": "code",
   "execution_count": 128,
   "metadata": {},
   "outputs": [
    {
     "ename": "IndentationError",
     "evalue": "expected an indented block (<ipython-input-128-38b9e6d29f6f>, line 21)",
     "output_type": "error",
     "traceback": [
      "\u001b[0;36m  File \u001b[0;32m\"<ipython-input-128-38b9e6d29f6f>\"\u001b[0;36m, line \u001b[0;32m21\u001b[0m\n\u001b[0;31m    if hayCamaLibre(lista_camas):\u001b[0m\n\u001b[0m     ^\u001b[0m\n\u001b[0;31mIndentationError\u001b[0m\u001b[0;31m:\u001b[0m expected an indented block\n"
     ]
    }
   ],
   "source": [
    "def simulacion(cant_experimentos, cant_corridas, cant_pacientes, cant_quirofanos, cant_camas):\n",
    "    # Esqueleto para simulación con escaneo de actividades\n",
    "    delta = 1 # Incremento para el valor del reloj\n",
    "    tope_reloj = 24*60 # Definimos un punto para cortar la ejecución, en este caso 24 hs (en minutos)\n",
    "    \n",
    "    \n",
    "    \n",
    "    for i in range(cant_experimentos):\n",
    "        for j in range(cant_corridas):\n",
    "            prefijo = f\"{i}{j}\" # un prefijo para identificar los eventos de cada experimento/corrida\n",
    "            fel, lista_quirofanos, lista_camas = inicializarModelo(prefijo, cant_corridas, cant_pacientes, cant_quirofanos, cant_camas)\n",
    "            reloj = 0 # Iniciamos/reiniciamos el reloj\n",
    "            while reloj <= tope_reloj or len(fel) != 0:\n",
    "                # TODO: checkear el horario de apertura del hospital\n",
    "\n",
    "                # Obtenemos todos los eventos diferenciados desde la lista de eventos\n",
    "                eventos_internarse,eventos_operarse, eventos_fin_internacion, eventos_fin_operacion = getEventosPorCondicion(fel)\n",
    "                \n",
    "                # Si hay eventos de finalizacion los hago primero para poder seguir procesando nuevas llegadas\n",
    "                if (eventos_fin_internacion or eventos_fin_operacion):\n",
    "                    for evento in eventos_fin_internacion:\n",
    "                        cama = evento.objeto\n",
    "                        cama.marcarDesocupada() #si evento es fin de internacion el objeto es una cama\n",
    "\n",
    "                    for evento in eventos_fin_operacion:\n",
    "                        quirofano = evento.objeto\n",
    "                        quirofano.marcarDesocupado() #si evento es fin de operacion el objetoes un quirofano\n",
    "                    \n",
    "                if hayCamaLibre(lista_camas):\n",
    "                    # Procesamos eventos que ocurren en este momento de reloj\n",
    "                    # y que puedan procesarse bajo esta condicion\n",
    "                    print(\".............\")\n",
    "                    print(fel[reloj])\n",
    "                    print(\".............\")\n",
    "                    eventos = fel[reloj]\n",
    "                    \n",
    "                    # Ejecutamos actividad con todos los eventos\n",
    "                    for e in eventos:\n",
    "                        asignarCama(eventos)\n",
    "                        # Calculamos estadisticas si es necesario\n",
    "\n",
    "                    # Retiramos eventos procesados de la fel para el instante correspondiente\n",
    "                    fel.pop(reloj, None)\n",
    "                    # Posiblemente generemos nuevos eventos para la fel\n",
    "                    \n",
    "                if hayQuirofanoLibre(lista_quirofanos):\n",
    "                    \n",
    "                    # ...\n",
    "                    eventos = fel[reloj]\n",
    "                    # Ejecutamos actividad con todos los eventoss\n",
    "                    for e in eventos:\n",
    "                        asignarQuirofano(eventos)\n",
    "                        # Calculamos estadisticas si es necesario\n",
    "\n",
    "                    # Retiramos eventos procesados de la fel para el instante correspondiente\n",
    "                    fel.pop(reloj, None)\n",
    "                    # Posiblemente generemos nuevos eventos para la fel\n",
    "                #...\n",
    "                \n",
    "                \n",
    "\n",
    "                reloj += delta # Avanzamos el reloj al siguiente incremento.\n",
    "\n",
    "            # Finalizó el procesamiento para esta corrida, hacemos la estadistica necesaria por corrida aqui\n",
    "\n",
    "        # Finalizó el procesamiento para este experimento, hacemos la estadistica necesaria por experimento aqui\n",
    "\n",
    "    # Finalizaron los experimentos, hacemos las estadísticas finales, gráficos y reportes aquí"
   ]
  },
  {
   "cell_type": "code",
   "execution_count": 127,
   "metadata": {},
   "outputs": [
    {
     "name": "stdout",
     "output_type": "stream",
     "text": [
      ".............\n",
      "[00-C19 - ARRIBO_PACIENTE - arribo: 204 - duracion: 0 - termina: 204\n",
      ", 00-C19 - ARRIBO_PACIENTE - arribo: 204 - duracion: 0 - termina: 204\n",
      ", 00-C19 - ARRIBO_PACIENTE - arribo: 204 - duracion: 0 - termina: 204\n",
      ", 00-C19 - ARRIBO_PACIENTE - arribo: 204 - duracion: 0 - termina: 204\n",
      ", 00-C19 - ARRIBO_PACIENTE - arribo: 204 - duracion: 0 - termina: 204\n",
      ", 00-C19 - ARRIBO_PACIENTE - arribo: 204 - duracion: 0 - termina: 204\n",
      ", 00-C19 - ARRIBO_PACIENTE - arribo: 204 - duracion: 0 - termina: 204\n",
      ", 00-C19 - ARRIBO_PACIENTE - arribo: 204 - duracion: 0 - termina: 204\n",
      ", 00-C19 - ARRIBO_PACIENTE - arribo: 204 - duracion: 0 - termina: 204\n",
      ", 00-C19 - ARRIBO_PACIENTE - arribo: 204 - duracion: 0 - termina: 204\n",
      ", 00-C19 - ARRIBO_PACIENTE - arribo: 204 - duracion: 0 - termina: 204\n",
      ", 00-C19 - ARRIBO_PACIENTE - arribo: 204 - duracion: 0 - termina: 204\n",
      ", 00-C19 - ARRIBO_PACIENTE - arribo: 204 - duracion: 0 - termina: 204\n",
      ", 00-C19 - ARRIBO_PACIENTE - arribo: 204 - duracion: 0 - termina: 204\n",
      ", 00-C19 - ARRIBO_PACIENTE - arribo: 204 - duracion: 0 - termina: 204\n",
      ", 00-C19 - ARRIBO_PACIENTE - arribo: 204 - duracion: 0 - termina: 204\n",
      ", 00-C19 - ARRIBO_PACIENTE - arribo: 204 - duracion: 0 - termina: 204\n",
      ", 00-C19 - ARRIBO_PACIENTE - arribo: 204 - duracion: 0 - termina: 204\n",
      ", 00-C19 - ARRIBO_PACIENTE - arribo: 204 - duracion: 0 - termina: 204\n",
      ", 00-C19 - ARRIBO_PACIENTE - arribo: 204 - duracion: 0 - termina: 204\n",
      "]\n",
      ".............\n"
     ]
    },
    {
     "ename": "KeyError",
     "evalue": "0",
     "output_type": "error",
     "traceback": [
      "\u001b[0;31m---------------------------------------------------------------------------\u001b[0m",
      "\u001b[0;31mKeyError\u001b[0m                                  Traceback (most recent call last)",
      "\u001b[0;32m<ipython-input-127-5116fe331c34>\u001b[0m in \u001b[0;36m<module>\u001b[0;34m()\u001b[0m\n\u001b[0;32m----> 1\u001b[0;31m \u001b[0msimulacion\u001b[0m\u001b[0;34m(\u001b[0m\u001b[0mcant_experimentos\u001b[0m\u001b[0;34m=\u001b[0m\u001b[0;36m1\u001b[0m\u001b[0;34m,\u001b[0m \u001b[0mcant_corridas\u001b[0m\u001b[0;34m=\u001b[0m\u001b[0;36m30\u001b[0m\u001b[0;34m,\u001b[0m \u001b[0mcant_pacientes\u001b[0m\u001b[0;34m=\u001b[0m\u001b[0;36m20\u001b[0m\u001b[0;34m,\u001b[0m \u001b[0mcant_quirofanos\u001b[0m\u001b[0;34m=\u001b[0m\u001b[0;36m4\u001b[0m\u001b[0;34m,\u001b[0m \u001b[0mcant_camas\u001b[0m\u001b[0;34m=\u001b[0m\u001b[0;36m10\u001b[0m\u001b[0;34m)\u001b[0m\u001b[0;34m\u001b[0m\u001b[0;34m\u001b[0m\u001b[0m\n\u001b[0m",
      "\u001b[0;32m<ipython-input-126-3fb6013ca342>\u001b[0m in \u001b[0;36msimulacion\u001b[0;34m(cant_experimentos, cant_corridas, cant_pacientes, cant_quirofanos, cant_camas)\u001b[0m\n\u001b[1;32m     34\u001b[0m \u001b[0;34m\u001b[0m\u001b[0m\n\u001b[1;32m     35\u001b[0m                     \u001b[0;31m# ...\u001b[0m\u001b[0;34m\u001b[0m\u001b[0;34m\u001b[0m\u001b[0;34m\u001b[0m\u001b[0m\n\u001b[0;32m---> 36\u001b[0;31m                     \u001b[0meventos\u001b[0m \u001b[0;34m=\u001b[0m \u001b[0mfel\u001b[0m\u001b[0;34m[\u001b[0m\u001b[0mreloj\u001b[0m\u001b[0;34m]\u001b[0m\u001b[0;34m\u001b[0m\u001b[0;34m\u001b[0m\u001b[0m\n\u001b[0m\u001b[1;32m     37\u001b[0m                     \u001b[0;31m# Ejecutamos actividad con todos los eventoss\u001b[0m\u001b[0;34m\u001b[0m\u001b[0;34m\u001b[0m\u001b[0;34m\u001b[0m\u001b[0m\n\u001b[1;32m     38\u001b[0m                     \u001b[0;32mfor\u001b[0m \u001b[0me\u001b[0m \u001b[0;32min\u001b[0m \u001b[0meventos\u001b[0m\u001b[0;34m:\u001b[0m\u001b[0;34m\u001b[0m\u001b[0;34m\u001b[0m\u001b[0m\n",
      "\u001b[0;31mKeyError\u001b[0m: 0"
     ]
    }
   ],
   "source": [
    "simulacion(cant_experimentos=1, cant_corridas=30, cant_pacientes=20, cant_quirofanos=4, cant_camas=10)"
   ]
  },
  {
   "cell_type": "code",
   "execution_count": null,
   "metadata": {},
   "outputs": [],
   "source": []
  }
 ],
 "metadata": {
  "kernelspec": {
   "display_name": "Python 3",
   "language": "python",
   "name": "python3"
  },
  "language_info": {
   "codemirror_mode": {
    "name": "ipython",
    "version": 3
   },
   "file_extension": ".py",
   "mimetype": "text/x-python",
   "name": "python",
   "nbconvert_exporter": "python",
   "pygments_lexer": "ipython3",
   "version": "3.6.9"
  }
 },
 "nbformat": 4,
 "nbformat_minor": 2
}
